{
 "cells": [
  {
   "cell_type": "code",
   "execution_count": 1,
   "id": "34ab8604",
   "metadata": {},
   "outputs": [
    {
     "name": "stdout",
     "output_type": "stream",
     "text": [
      "hello world\n"
     ]
    }
   ],
   "source": [
    "print(\"hello world\")"
   ]
  },
  {
   "cell_type": "code",
   "execution_count": 2,
   "id": "4a0d2b98",
   "metadata": {},
   "outputs": [
    {
     "name": "stdout",
     "output_type": "stream",
     "text": [
      "100\n"
     ]
    }
   ],
   "source": [
    "print(100)"
   ]
  },
  {
   "cell_type": "code",
   "execution_count": 3,
   "id": "9d85e9c7",
   "metadata": {},
   "outputs": [
    {
     "name": "stdout",
     "output_type": "stream",
     "text": [
      "200\n"
     ]
    }
   ],
   "source": [
    "print(200)"
   ]
  },
  {
   "cell_type": "code",
   "execution_count": 4,
   "id": "411423c0",
   "metadata": {},
   "outputs": [
    {
     "name": "stdout",
     "output_type": "stream",
     "text": [
      "sanjay\n"
     ]
    }
   ],
   "source": [
    "print('sanjay')"
   ]
  },
  {
   "cell_type": "code",
   "execution_count": 5,
   "id": "0d4f5fd0",
   "metadata": {},
   "outputs": [
    {
     "name": "stdout",
     "output_type": "stream",
     "text": [
      "2.3\n"
     ]
    }
   ],
   "source": [
    "print(2.3)"
   ]
  },
  {
   "cell_type": "code",
   "execution_count": 6,
   "id": "cb15092c",
   "metadata": {},
   "outputs": [
    {
     "name": "stdout",
     "output_type": "stream",
     "text": [
      "56\n"
     ]
    }
   ],
   "source": [
    "print(56)"
   ]
  },
  {
   "cell_type": "code",
   "execution_count": null,
   "id": "82c9c575",
   "metadata": {},
   "outputs": [],
   "source": []
  },
  {
   "cell_type": "code",
   "execution_count": 8,
   "id": "e6a32158",
   "metadata": {},
   "outputs": [],
   "source": [
    "# variables : a vaiable is a place holder which can store any value/ data or information\n",
    "\n",
    "# rules in writting variables:\n",
    "#1. any variable can be writtin in samllercase, uppercase, underscore or can be a combination of it.\n",
    "#2. we can not start any variable with digits.\n",
    "#3. in order to write any variable we can not use any python inbuilt keyword."
   ]
  },
  {
   "cell_type": "code",
   "execution_count": 9,
   "id": "7d3f9950",
   "metadata": {},
   "outputs": [],
   "source": [
    "t = 45"
   ]
  },
  {
   "cell_type": "code",
   "execution_count": 10,
   "id": "6ba919d7",
   "metadata": {},
   "outputs": [],
   "source": [
    "j = 100"
   ]
  },
  {
   "cell_type": "code",
   "execution_count": 11,
   "id": "27212932",
   "metadata": {},
   "outputs": [],
   "source": [
    "p = \"hello world\""
   ]
  },
  {
   "cell_type": "code",
   "execution_count": 12,
   "id": "7c8f0347",
   "metadata": {},
   "outputs": [],
   "source": [
    "a = 2.3"
   ]
  },
  {
   "cell_type": "code",
   "execution_count": 13,
   "id": "eac8592e",
   "metadata": {},
   "outputs": [],
   "source": [
    "b = 56"
   ]
  },
  {
   "cell_type": "code",
   "execution_count": 14,
   "id": "f392f0e3",
   "metadata": {},
   "outputs": [],
   "source": [
    "H = 45"
   ]
  },
  {
   "cell_type": "code",
   "execution_count": 15,
   "id": "4ffa6c9a",
   "metadata": {},
   "outputs": [],
   "source": [
    "t = 14"
   ]
  },
  {
   "cell_type": "code",
   "execution_count": 16,
   "id": "4929b3cc",
   "metadata": {},
   "outputs": [],
   "source": [
    "A_a = 156"
   ]
  },
  {
   "cell_type": "code",
   "execution_count": 17,
   "id": "1ef1a3a0",
   "metadata": {},
   "outputs": [],
   "source": [
    "R_a1 = 123"
   ]
  },
  {
   "cell_type": "code",
   "execution_count": 18,
   "id": "5b232311",
   "metadata": {},
   "outputs": [],
   "source": [
    "abc1 = \"python is fun\""
   ]
  },
  {
   "cell_type": "code",
   "execution_count": 20,
   "id": "b4c64c31",
   "metadata": {},
   "outputs": [
    {
     "ename": "SyntaxError",
     "evalue": "invalid syntax (<ipython-input-20-d8f31843eb4c>, line 1)",
     "output_type": "error",
     "traceback": [
      "\u001b[1;36m  File \u001b[1;32m\"<ipython-input-20-d8f31843eb4c>\"\u001b[1;36m, line \u001b[1;32m1\u001b[0m\n\u001b[1;33m    1abc = \"hello\" # invaild variable\u001b[0m\n\u001b[1;37m     ^\u001b[0m\n\u001b[1;31mSyntaxError\u001b[0m\u001b[1;31m:\u001b[0m invalid syntax\n"
     ]
    }
   ],
   "source": [
    "1abc = \"hello\" # invaild variable"
   ]
  },
  {
   "cell_type": "code",
   "execution_count": null,
   "id": "30c28596",
   "metadata": {},
   "outputs": [],
   "source": []
  },
  {
   "cell_type": "code",
   "execution_count": 21,
   "id": "30d853da",
   "metadata": {},
   "outputs": [],
   "source": [
    "# Data types in python:\n",
    "# int\n",
    "# string\n",
    "# float\n",
    "# complex\n",
    "# Bollean\n",
    "# None"
   ]
  },
  {
   "cell_type": "code",
   "execution_count": 22,
   "id": "a60a04e2",
   "metadata": {},
   "outputs": [],
   "source": [
    "# int : means perfect number"
   ]
  },
  {
   "cell_type": "code",
   "execution_count": 23,
   "id": "f6980166",
   "metadata": {},
   "outputs": [],
   "source": [
    "h = 47"
   ]
  },
  {
   "cell_type": "code",
   "execution_count": 24,
   "id": "81627229",
   "metadata": {},
   "outputs": [],
   "source": [
    "a = 15"
   ]
  },
  {
   "cell_type": "code",
   "execution_count": 25,
   "id": "07d100f2",
   "metadata": {},
   "outputs": [],
   "source": [
    "q = 100"
   ]
  },
  {
   "cell_type": "code",
   "execution_count": 26,
   "id": "6b56c607",
   "metadata": {},
   "outputs": [
    {
     "data": {
      "text/plain": [
       "int"
      ]
     },
     "execution_count": 26,
     "metadata": {},
     "output_type": "execute_result"
    }
   ],
   "source": [
    "type(h)"
   ]
  },
  {
   "cell_type": "code",
   "execution_count": 27,
   "id": "6fe4cedc",
   "metadata": {},
   "outputs": [
    {
     "data": {
      "text/plain": [
       "int"
      ]
     },
     "execution_count": 27,
     "metadata": {},
     "output_type": "execute_result"
    }
   ],
   "source": [
    "type(a)"
   ]
  },
  {
   "cell_type": "code",
   "execution_count": 28,
   "id": "d4c318a1",
   "metadata": {},
   "outputs": [
    {
     "data": {
      "text/plain": [
       "int"
      ]
     },
     "execution_count": 28,
     "metadata": {},
     "output_type": "execute_result"
    }
   ],
   "source": [
    "type(q)"
   ]
  },
  {
   "cell_type": "code",
   "execution_count": 29,
   "id": "58b17154",
   "metadata": {},
   "outputs": [
    {
     "data": {
      "text/plain": [
       "140732247059696"
      ]
     },
     "execution_count": 29,
     "metadata": {},
     "output_type": "execute_result"
    }
   ],
   "source": [
    "id(h)"
   ]
  },
  {
   "cell_type": "code",
   "execution_count": 30,
   "id": "4a3d0e35",
   "metadata": {},
   "outputs": [
    {
     "data": {
      "text/plain": [
       "140732247061392"
      ]
     },
     "execution_count": 30,
     "metadata": {},
     "output_type": "execute_result"
    }
   ],
   "source": [
    "id(q)"
   ]
  },
  {
   "cell_type": "code",
   "execution_count": 31,
   "id": "ccd1c846",
   "metadata": {},
   "outputs": [
    {
     "data": {
      "text/plain": [
       "140732247058672"
      ]
     },
     "execution_count": 31,
     "metadata": {},
     "output_type": "execute_result"
    }
   ],
   "source": [
    "id(a)"
   ]
  },
  {
   "cell_type": "code",
   "execution_count": 32,
   "id": "2e816634",
   "metadata": {},
   "outputs": [],
   "source": [
    "# float : "
   ]
  },
  {
   "cell_type": "code",
   "execution_count": 33,
   "id": "39390802",
   "metadata": {},
   "outputs": [],
   "source": [
    "k = 2.3\n"
   ]
  },
  {
   "cell_type": "code",
   "execution_count": 34,
   "id": "2f74e5cf",
   "metadata": {},
   "outputs": [],
   "source": [
    "y = 2.9"
   ]
  },
  {
   "cell_type": "code",
   "execution_count": 35,
   "id": "5f083860",
   "metadata": {},
   "outputs": [
    {
     "data": {
      "text/plain": [
       "float"
      ]
     },
     "execution_count": 35,
     "metadata": {},
     "output_type": "execute_result"
    }
   ],
   "source": [
    "type(k)"
   ]
  },
  {
   "cell_type": "code",
   "execution_count": 36,
   "id": "30e2e89b",
   "metadata": {},
   "outputs": [
    {
     "data": {
      "text/plain": [
       "float"
      ]
     },
     "execution_count": 36,
     "metadata": {},
     "output_type": "execute_result"
    }
   ],
   "source": [
    "type(y)"
   ]
  },
  {
   "cell_type": "code",
   "execution_count": 37,
   "id": "47f178f2",
   "metadata": {},
   "outputs": [
    {
     "data": {
      "text/plain": [
       "1763129396848"
      ]
     },
     "execution_count": 37,
     "metadata": {},
     "output_type": "execute_result"
    }
   ],
   "source": [
    "id(k)"
   ]
  },
  {
   "cell_type": "code",
   "execution_count": 38,
   "id": "fb612dd8",
   "metadata": {},
   "outputs": [
    {
     "data": {
      "text/plain": [
       "1763151173584"
      ]
     },
     "execution_count": 38,
     "metadata": {},
     "output_type": "execute_result"
    }
   ],
   "source": [
    "id(y)"
   ]
  },
  {
   "cell_type": "code",
   "execution_count": null,
   "id": "9752bde5",
   "metadata": {},
   "outputs": [],
   "source": []
  },
  {
   "cell_type": "code",
   "execution_count": 41,
   "id": "13328f6f",
   "metadata": {},
   "outputs": [],
   "source": [
    "# string : any thing which is inside the quotes is know as string\n",
    "# it could be sing, double or tripple quotes as well"
   ]
  },
  {
   "cell_type": "code",
   "execution_count": 42,
   "id": "98ff8b1e",
   "metadata": {},
   "outputs": [],
   "source": [
    "g = \"python is fun\""
   ]
  },
  {
   "cell_type": "code",
   "execution_count": 43,
   "id": "551c1aaa",
   "metadata": {},
   "outputs": [
    {
     "data": {
      "text/plain": [
       "str"
      ]
     },
     "execution_count": 43,
     "metadata": {},
     "output_type": "execute_result"
    }
   ],
   "source": [
    "type(g)"
   ]
  },
  {
   "cell_type": "code",
   "execution_count": 44,
   "id": "a74e33e9",
   "metadata": {},
   "outputs": [
    {
     "data": {
      "text/plain": [
       "1763146671728"
      ]
     },
     "execution_count": 44,
     "metadata": {},
     "output_type": "execute_result"
    }
   ],
   "source": [
    "id(g)"
   ]
  },
  {
   "cell_type": "code",
   "execution_count": 45,
   "id": "ea4c3afe",
   "metadata": {},
   "outputs": [],
   "source": [
    "y= 'machine learning'"
   ]
  },
  {
   "cell_type": "code",
   "execution_count": 46,
   "id": "a4826ab9",
   "metadata": {},
   "outputs": [
    {
     "data": {
      "text/plain": [
       "str"
      ]
     },
     "execution_count": 46,
     "metadata": {},
     "output_type": "execute_result"
    }
   ],
   "source": [
    "type(y)"
   ]
  },
  {
   "cell_type": "code",
   "execution_count": 47,
   "id": "d54a43f7",
   "metadata": {},
   "outputs": [],
   "source": [
    "v = \"\"\"mobile\"\"\""
   ]
  },
  {
   "cell_type": "code",
   "execution_count": 48,
   "id": "14283332",
   "metadata": {},
   "outputs": [
    {
     "data": {
      "text/plain": [
       "str"
      ]
     },
     "execution_count": 48,
     "metadata": {},
     "output_type": "execute_result"
    }
   ],
   "source": [
    "type(v)"
   ]
  },
  {
   "cell_type": "code",
   "execution_count": 49,
   "id": "4217cf43",
   "metadata": {},
   "outputs": [],
   "source": [
    "a = '''mouse'''"
   ]
  },
  {
   "cell_type": "code",
   "execution_count": 50,
   "id": "96e5f803",
   "metadata": {},
   "outputs": [
    {
     "data": {
      "text/plain": [
       "str"
      ]
     },
     "execution_count": 50,
     "metadata": {},
     "output_type": "execute_result"
    }
   ],
   "source": [
    "type(a)"
   ]
  },
  {
   "cell_type": "code",
   "execution_count": 52,
   "id": "9623f4c9",
   "metadata": {},
   "outputs": [],
   "source": [
    "# boolean : True and False"
   ]
  },
  {
   "cell_type": "code",
   "execution_count": 53,
   "id": "769868cc",
   "metadata": {},
   "outputs": [],
   "source": [
    "h = True"
   ]
  },
  {
   "cell_type": "code",
   "execution_count": 54,
   "id": "b7b55dcf",
   "metadata": {},
   "outputs": [
    {
     "data": {
      "text/plain": [
       "bool"
      ]
     },
     "execution_count": 54,
     "metadata": {},
     "output_type": "execute_result"
    }
   ],
   "source": [
    "type(h)"
   ]
  },
  {
   "cell_type": "code",
   "execution_count": 55,
   "id": "7985a81b",
   "metadata": {},
   "outputs": [],
   "source": [
    "n = False"
   ]
  },
  {
   "cell_type": "code",
   "execution_count": 56,
   "id": "f874e5b7",
   "metadata": {},
   "outputs": [
    {
     "data": {
      "text/plain": [
       "bool"
      ]
     },
     "execution_count": 56,
     "metadata": {},
     "output_type": "execute_result"
    }
   ],
   "source": [
    "type(n)"
   ]
  },
  {
   "cell_type": "code",
   "execution_count": 57,
   "id": "abb1ea1a",
   "metadata": {},
   "outputs": [],
   "source": [
    "d = 8+7j"
   ]
  },
  {
   "cell_type": "code",
   "execution_count": 58,
   "id": "2612b4d0",
   "metadata": {},
   "outputs": [
    {
     "data": {
      "text/plain": [
       "complex"
      ]
     },
     "execution_count": 58,
     "metadata": {},
     "output_type": "execute_result"
    }
   ],
   "source": [
    "type(d)"
   ]
  },
  {
   "cell_type": "code",
   "execution_count": 59,
   "id": "49fe5176",
   "metadata": {},
   "outputs": [],
   "source": [
    "a = 10+8j"
   ]
  },
  {
   "cell_type": "code",
   "execution_count": 60,
   "id": "4708d135",
   "metadata": {},
   "outputs": [
    {
     "data": {
      "text/plain": [
       "complex"
      ]
     },
     "execution_count": 60,
     "metadata": {},
     "output_type": "execute_result"
    }
   ],
   "source": [
    "type(a)"
   ]
  },
  {
   "cell_type": "code",
   "execution_count": null,
   "id": "978cc6d0",
   "metadata": {},
   "outputs": [],
   "source": []
  },
  {
   "cell_type": "code",
   "execution_count": 61,
   "id": "11be30b6",
   "metadata": {},
   "outputs": [],
   "source": [
    "z = None"
   ]
  },
  {
   "cell_type": "code",
   "execution_count": 62,
   "id": "23bd4f47",
   "metadata": {},
   "outputs": [
    {
     "data": {
      "text/plain": [
       "NoneType"
      ]
     },
     "execution_count": 62,
     "metadata": {},
     "output_type": "execute_result"
    }
   ],
   "source": [
    "type(z)"
   ]
  },
  {
   "cell_type": "code",
   "execution_count": null,
   "id": "075b29ba",
   "metadata": {},
   "outputs": [],
   "source": []
  }
 ],
 "metadata": {
  "kernelspec": {
   "display_name": "Python 3",
   "language": "python",
   "name": "python3"
  },
  "language_info": {
   "codemirror_mode": {
    "name": "ipython",
    "version": 3
   },
   "file_extension": ".py",
   "mimetype": "text/x-python",
   "name": "python",
   "nbconvert_exporter": "python",
   "pygments_lexer": "ipython3",
   "version": "3.8.8"
  }
 },
 "nbformat": 4,
 "nbformat_minor": 5
}
